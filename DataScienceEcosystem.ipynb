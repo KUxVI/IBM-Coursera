{
 "cells": [
  {
   "cell_type": "markdown",
   "id": "bc0616d4-6014-43d7-a8a4-e0db47dc32f5",
   "metadata": {},
   "source": [
    "# Data Science Tools and Ecosystem"
   ]
  },
  {
   "cell_type": "markdown",
   "id": "a632e535-b9d7-45b4-b92c-0b85178dc151",
   "metadata": {},
   "source": [
    "In this notebook, Data Science Tools and Ecosystem are summarized."
   ]
  },
  {
   "cell_type": "markdown",
   "id": "13df9982-a7c8-4fd0-b040-826d48429941",
   "metadata": {},
   "source": [
    "Some of the popular languages that Data Scientists use are:\n",
    "1. Python\n",
    "2. R\n",
    "3. SQL"
   ]
  },
  {
   "cell_type": "markdown",
   "id": "e1e5ded8-5907-4a00-b463-62c625695ca2",
   "metadata": {},
   "source": [
    "Some of the commonly used libraries used by Data Scientists include:\n",
    "1. NumPy\n",
    "2. Pandas\n",
    "3. Scikit-learn\n",
    "4. Matplotlib\n",
    "5. TensorFlow"
   ]
  },
  {
   "cell_type": "markdown",
   "id": "8dcaf926-cdab-414f-8a69-8ad6ad9b47e6",
   "metadata": {},
   "source": [
    "| Data Science Tools   |\n",
    "|----------------------|\n",
    "| Jupyter Notebook     |\n",
    "| RStudio              |\n",
    "| Apache Zeppelin      |"
   ]
  },
  {
   "cell_type": "markdown",
   "id": "87d4e928-6a54-45d9-afe4-6838f9c31f1d",
   "metadata": {},
   "source": [
    "### Below are a few examples of evaluating arithmetic expressions in Python:"
   ]
  },
  {
   "cell_type": "code",
   "execution_count": 5,
   "id": "548d0442-ff58-4207-bb33-cba6683f0dd3",
   "metadata": {},
   "outputs": [
    {
     "data": {
      "text/plain": [
       "17"
      ]
     },
     "execution_count": 5,
     "metadata": {},
     "output_type": "execute_result"
    }
   ],
   "source": [
    "# This is a simple arithmetic expression to multiply then add integers\n",
    "result = (3 * 4) + 5\n",
    "result"
   ]
  },
  {
   "cell_type": "code",
   "execution_count": 8,
   "id": "43d9c86a-b015-4e22-9d83-26472cc7c8eb",
   "metadata": {},
   "outputs": [
    {
     "data": {
      "text/plain": [
       "3.3333333333333335"
      ]
     },
     "execution_count": 8,
     "metadata": {},
     "output_type": "execute_result"
    }
   ],
   "source": [
    " #This will convert 200 minutes to hours by diving by 60\n",
    "result = 200/60\n",
    "result"
   ]
  },
  {
   "cell_type": "markdown",
   "id": "5999d151-e427-4377-83bc-f163498b3b02",
   "metadata": {},
   "source": [
    "**Objectives :**\n",
    "\n",
    "- List popular languages for Data Science\n",
    "- Describe common development environment tools used in Data Science\n",
    "- Explain how to evaluate arithmetic expressions in Python\n",
    "- Convert units within Python code\n",
    "- Identify commonly used libraries in Data Science\n"
   ]
  },
  {
   "cell_type": "markdown",
   "id": "0a1fb841-aed1-4860-ade9-d18c66c2c334",
   "metadata": {},
   "source": [
    "## Author\n",
    "Kodidasu V Siddharth"
   ]
  },
  {
   "cell_type": "code",
   "execution_count": null,
   "id": "0e980bb1-90d4-4f7e-afd4-10f7fef47975",
   "metadata": {},
   "outputs": [],
   "source": []
  }
 ],
 "metadata": {
  "kernelspec": {
   "display_name": "Python 3 (ipykernel)",
   "language": "python",
   "name": "python3"
  },
  "language_info": {
   "codemirror_mode": {
    "name": "ipython",
    "version": 3
   },
   "file_extension": ".py",
   "mimetype": "text/x-python",
   "name": "python",
   "nbconvert_exporter": "python",
   "pygments_lexer": "ipython3",
   "version": "3.12.3"
  }
 },
 "nbformat": 4,
 "nbformat_minor": 5
}
